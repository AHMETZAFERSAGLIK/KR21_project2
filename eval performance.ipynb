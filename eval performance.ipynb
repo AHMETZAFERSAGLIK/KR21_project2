{
 "cells": [
  {
   "cell_type": "code",
   "execution_count": 1,
   "metadata": {},
   "outputs": [
    {
     "name": "stderr",
     "output_type": "stream",
     "text": [
      "/Users/orbaytopal/Desktop/VUAI.nosync/Master/KR21_project2/venv/lib/python3.9/site-packages/tqdm/auto.py:22: TqdmWarning: IProgress not found. Please update jupyter and ipywidgets. See https://ipywidgets.readthedocs.io/en/stable/user_install.html\n",
      "  from .autonotebook import tqdm as notebook_tqdm\n"
     ]
    },
    {
     "name": "stdout",
     "output_type": "stream",
     "text": [
      "speeddict_mindegree\n",
      "==========\n",
      "{'testing/dog_problem.BIFXML': 0.07287812232971191, 'testing/lecture_example.BIFXML': 0.0457916259765625, 'testing/lecture_example2.BIFXML': 0.06234598159790039}\n",
      "\n",
      "\n",
      "speeddict_minfill\n",
      "==========\n",
      "{'testing/dog_problem.BIFXML': 0.054437875747680664, 'testing/lecture_example.BIFXML': 0.0538179874420166, 'testing/lecture_example2.BIFXML': 0.0556340217590332}\n",
      "\n",
      "\n",
      "speeddict_minfillmpedog\n",
      "==========\n",
      "{'testing/dog_problem.BIFXML': 0.1502840518951416}\n",
      "\n",
      "\n",
      "speeddict_minfillmpelec1\n",
      "==========\n",
      "{'testing/lecture_example.BIFXML': 0.11658596992492676}\n",
      "\n",
      "\n",
      "speeddict_minfillmpelec2\n",
      "==========\n",
      "{'testing/lecture_example2.BIFXML': 0.13442206382751465}\n",
      "\n",
      "\n",
      "speeddict_minfillmapdog\n",
      "==========\n",
      "{'testing/dog_problem.BIFXML': 0.11280274391174316}\n",
      "\n",
      "\n",
      "speeddict_minfillmaplec1\n",
      "==========\n",
      "{'testing/lecture_example.BIFXML': 0.13033604621887207}\n",
      "\n",
      "\n",
      "speeddict_minfillmaplec2\n",
      "==========\n",
      "{'testing/lecture_example2.BIFXML': 0.13023900985717773}\n",
      "\n",
      "\n",
      "speeddict_mindegreempedog\n",
      "==========\n",
      "{'testing/dog_problem.BIFXML': 0.11981320381164551}\n",
      "\n",
      "\n",
      "speeddict_mindegreempelec1\n",
      "==========\n",
      "{'testing/lecture_example.BIFXML': 0.11255598068237305}\n",
      "\n",
      "\n",
      "speeddict_mindegreempelec2\n",
      "==========\n",
      "{'testing/lecture_example2.BIFXML': 0.12053585052490234}\n",
      "\n",
      "\n",
      "speeddict_mindegreemapdog\n",
      "==========\n",
      "{'testing/dog_problem.BIFXML': 0.11290216445922852}\n",
      "\n",
      "\n",
      "speeddict_mindegreemaplec1\n",
      "==========\n",
      "{'testing/lecture_example.BIFXML': 0.10583186149597168}\n",
      "\n",
      "\n",
      "speeddict_mindegreemaplec2\n",
      "==========\n",
      "{'testing/lecture_example2.BIFXML': 0.12424278259277344}\n",
      "\n",
      "\n",
      "speeddict_unprunedlec1\n",
      "==========\n",
      "{'testing/lecture_example.BIFXML': 0.06713724136352539}\n",
      "\n",
      "\n",
      "speeddict_prunedlec1\n",
      "==========\n",
      "{'testing/lecture_example.BIFXML': 0.03768515586853027}\n",
      "\n",
      "\n",
      "speeddict_unprunedlec2\n",
      "==========\n",
      "{'testing/lecture_example2.BIFXML': 0.07343387603759766}\n",
      "\n",
      "\n",
      "speeddict_prunedlec2\n",
      "==========\n",
      "{'testing/lecture_example2.BIFXML': 0.044667959213256836}\n",
      "\n",
      "\n",
      "speeddict_pruneddog\n",
      "==========\n",
      "{'testing/dog_problem.BIFXML': 0.05658411979675293}\n",
      "\n",
      "\n",
      "speeddict_upruneddog\n",
      "==========\n",
      "{'testing/dog_problem.BIFXML': 0.020390033721923828}\n",
      "\n",
      "\n"
     ]
    }
   ],
   "source": [
    "from Eval_performance import speeddict\n",
    "from Eval_performance import speeddictstr\n",
    "import pandas as pd\n",
    "import numpy as np\n",
    "import matplotlib.pyplot as plt\n"
   ]
  },
  {
   "cell_type": "code",
   "execution_count": 2,
   "metadata": {},
   "outputs": [
    {
     "name": "stdout",
     "output_type": "stream",
     "text": [
      "['speeddict_mindegree', 'speeddict_minfill', 'speeddict_minfillmpedog', 'speeddict_minfillmpelec1', 'speeddict_minfillmpelec2', 'speeddict_minfillmapdog', 'speeddict_minfillmaplec1', 'speeddict_minfillmaplec2', 'speeddict_mindegreempedog', 'speeddict_mindegreempelec1', 'speeddict_mindegreempelec2', 'speeddict_mindegreemapdog', 'speeddict_mindegreemaplec1', 'speeddict_mindegreemaplec2']\n"
     ]
    }
   ],
   "source": [
    "print(speeddictstr[:14])\n",
    "\n"
   ]
  },
  {
   "cell_type": "code",
   "execution_count": null,
   "metadata": {},
   "outputs": [],
   "source": []
  },
  {
   "cell_type": "code",
   "execution_count": 3,
   "metadata": {},
   "outputs": [
    {
     "name": "stdout",
     "output_type": "stream",
     "text": [
      "speeddict_upruneddog\n",
      "{'testing/dog_problem.BIFXML': 0.020390033721923828}\n",
      "speeddict_pruneddog\n",
      "{'testing/dog_problem.BIFXML': 0.05658411979675293}\n",
      "speeddict_prunedlec2\n",
      "{'testing/lecture_example2.BIFXML': 0.044667959213256836}\n",
      "speeddict_unprunedlec2\n",
      "{'testing/lecture_example2.BIFXML': 0.07343387603759766}\n",
      "speeddict_prunedlec1\n",
      "{'testing/lecture_example.BIFXML': 0.03768515586853027}\n",
      "speeddict_unprunedlec1\n",
      "{'testing/lecture_example.BIFXML': 0.06713724136352539}\n"
     ]
    }
   ],
   "source": [
    "prunedunpruned = speeddict[:-7:-1]\n",
    "prunedunprunedstr = speeddictstr[:-7:-1]    \n",
    "\n",
    "for i in range(len(prunedunpruned)):\n",
    "    print(prunedunprunedstr[i])\n",
    "    print(prunedunpruned[i])"
   ]
  },
  {
   "cell_type": "code",
   "execution_count": 4,
   "metadata": {},
   "outputs": [],
   "source": [
    "Prunedspeeds = [0.05101323127746582, 0.08065605163574219, 0.0796501636505127]\n",
    "unprunedspeeds = [0.0538790225982666, 0.07364130020141602, 0.05878019332885742]\n",
    "Prunedspeedsmean = np.mean(Prunedspeeds)\n",
    "unPrunedspeedsmean = np.mean(unprunedspeeds)\n",
    "unPrunedspeedsstd = np.std(unprunedspeeds)\n",
    "Prunedspeedsstd = np.std(Prunedspeeds)      "
   ]
  },
  {
   "cell_type": "code",
   "execution_count": 20,
   "metadata": {},
   "outputs": [
    {
     "data": {
      "text/html": "<div>\n<style scoped>\n    .dataframe tbody tr th:only-of-type {\n        vertical-align: middle;\n    }\n\n    .dataframe tbody tr th {\n        vertical-align: top;\n    }\n\n    .dataframe thead th {\n        text-align: right;\n    }\n</style>\n<table border=\"1\" class=\"dataframe\">\n  <thead>\n    <tr style=\"text-align: right;\">\n      <th></th>\n      <th>case</th>\n      <th>mean</th>\n      <th>std</th>\n    </tr>\n  </thead>\n  <tbody>\n    <tr>\n      <th>0</th>\n      <td>pruned</td>\n      <td>0.07044</td>\n      <td>0.013743</td>\n    </tr>\n    <tr>\n      <th>1</th>\n      <td>unpruned</td>\n      <td>0.06210</td>\n      <td>0.008403</td>\n    </tr>\n  </tbody>\n</table>\n</div>",
      "text/plain": "       case     mean       std\n0    pruned  0.07044  0.013743\n1  unpruned  0.06210  0.008403"
     },
     "execution_count": 20,
     "metadata": {},
     "output_type": "execute_result"
    }
   ],
   "source": [
    "df = pd.DataFrame({\n",
    "    'case': ['pruned', 'unpruned'], \n",
    "    'mean': [Prunedspeedsmean, unPrunedspeedsmean],\n",
    "    'std': [Prunedspeedsstd, unPrunedspeedsstd]})\n",
    "\n",
    "\n",
    "df"
   ]
  },
  {
   "cell_type": "code",
   "execution_count": 6,
   "metadata": {},
   "outputs": [],
   "source": [
    "# Groupby the quality column using aggregate\n",
    "# value of mean and std\n",
    "case = ['pruned', 'unpruned']\n",
    "x_pos = np.arange(len(case))\n",
    "mean = [Prunedspeedsmean, unPrunedspeedsmean]\n",
    "error = [Prunedspeedsstd, unPrunedspeedsstd]\n",
    "\n"
   ]
  },
  {
   "cell_type": "code",
   "execution_count": 7,
   "metadata": {},
   "outputs": [
    {
     "data": {
      "image/png": "[encoded data removed]",
      "text/plain": "<Figure size 640x480 with 1 Axes>"
     },
     "metadata": {},
     "output_type": "display_data"
    }
   ],
   "source": [
    "fig, ax = plt.subplots()\n",
    "ax.bar(x_pos, mean, yerr=error, align='center', alpha=0.5, ecolor='black', capsize=10)\n",
    "ax.set_ylabel('')\n",
    "ax.set_xticks(x_pos)\n",
    "ax.set_xticklabels(case)\n",
    "ax.set_title('')\n",
    "ax.yaxis.grid(True)\n",
    "\n",
    "# Save the figure and show\n",
    "plt.tight_layout()\n",
    "plt.savefig('bar_plot_with_error_bars.png')\n",
    "plt.show()"
   ]
  },
  {
   "cell_type": "code",
   "execution_count": 8,
   "metadata": {},
   "outputs": [
    {
     "name": "stdout",
     "output_type": "stream",
     "text": [
      "speeddict_mindegree\n",
      "{'testing/dog_problem.BIFXML': 0.07287812232971191, 'testing/lecture_example.BIFXML': 0.0457916259765625, 'testing/lecture_example2.BIFXML': 0.06234598159790039}\n",
      "speeddict_minfill\n",
      "{'testing/dog_problem.BIFXML': 0.054437875747680664, 'testing/lecture_example.BIFXML': 0.0538179874420166, 'testing/lecture_example2.BIFXML': 0.0556340217590332}\n",
      "speeddict_minfillmpedog\n",
      "{'testing/dog_problem.BIFXML': 0.1502840518951416}\n",
      "speeddict_minfillmpelec1\n",
      "{'testing/lecture_example.BIFXML': 0.11658596992492676}\n",
      "speeddict_minfillmpelec2\n",
      "{'testing/lecture_example2.BIFXML': 0.13442206382751465}\n",
      "speeddict_minfillmapdog\n",
      "{'testing/dog_problem.BIFXML': 0.11280274391174316}\n",
      "speeddict_minfillmaplec1\n",
      "{'testing/lecture_example.BIFXML': 0.13033604621887207}\n",
      "speeddict_minfillmaplec2\n",
      "{'testing/lecture_example2.BIFXML': 0.13023900985717773}\n",
      "speeddict_mindegreempedog\n",
      "{'testing/dog_problem.BIFXML': 0.11981320381164551}\n",
      "speeddict_mindegreempelec1\n",
      "{'testing/lecture_example.BIFXML': 0.11255598068237305}\n",
      "speeddict_mindegreempelec2\n",
      "{'testing/lecture_example2.BIFXML': 0.12053585052490234}\n",
      "speeddict_mindegreemapdog\n",
      "{'testing/dog_problem.BIFXML': 0.11290216445922852}\n",
      "speeddict_mindegreemaplec1\n",
      "{'testing/lecture_example.BIFXML': 0.10583186149597168}\n",
      "speeddict_mindegreemaplec2\n",
      "{'testing/lecture_example2.BIFXML': 0.12424278259277344}\n"
     ]
    }
   ],
   "source": [
    "speeddictstr[:14]\n",
    "for i in range(14):\n",
    "    print(speeddictstr[i])\n",
    "    print(speeddict[i])"
   ]
  },
  {
   "cell_type": "code",
   "execution_count": 9,
   "metadata": {},
   "outputs": [],
   "source": [
    "minfillall = [0.055847883224487305, 0.07457876205444336, 0.05912613868713379, 0.13927888870239258, 0.139847993850708, 0.15208005905151367, 0.17902588844299316, 0.1614987850189209, 0.23151373863220215]\n",
    "mindegreeall = [0.17766094207763672, 0.06731414794921875, 0.0647280216217041,0.1604011058807373,  0.13750886917114258, 0.17176413536071777,0.15306687355041504, 0.1351022720336914, 0.2061922550201416]\n",
    "\n",
    "mindegreealone = [0.17766094207763672, 0.06731414794921875, 0.0647280216217041]\n",
    "mindegreemap = [0.15306687355041504, 0.1351022720336914, 0.2061922550201416]\n",
    "mindegreempe = [0.1604011058807373,  0.13750886917114258, 0.17176413536071777]\n",
    "\n",
    "minfillalone = [0.055847883224487305, 0.07457876205444336, 0.05912613868713379]\n",
    "minfillmap = [0.17902588844299316, 0.1614987850189209, 0.23151373863220215]\n",
    "minfillmpe = [0.13927888870239258, 0.139847993850708, 0.15208005905151367]\n",
    "\n",
    "Mpe = mindegreempe + minfillmpe\n",
    "Map = mindegreemap + minfillmap\n"
   ]
  },
  {
   "cell_type": "code",
   "execution_count": 10,
   "metadata": {},
   "outputs": [],
   "source": [
    "minfillallmean = np.mean(minfillall)\n",
    "mindegreeallmean = np.mean(mindegreeall)\n",
    "mindegreealonemean = np.mean(mindegreealone)\n",
    "mindegreemapmean = np.mean(mindegreemap)\n",
    "mindegreempemean = np.mean(mindegreempe)\n",
    "minfillalonemean = np.mean(minfillalone)\n",
    "minfillmapmean = np.mean(minfillmap)\n",
    "minfillmpemean = np.mean(minfillmpe)\n",
    "\n",
    "Mpemean = np.mean(Mpe)\n",
    "Mapmean = np.mean(Map)"
   ]
  },
  {
   "cell_type": "code",
   "execution_count": 11,
   "metadata": {},
   "outputs": [],
   "source": [
    "minfillallstd = np.std(minfillall)\n",
    "mindegreeallstd = np.std(mindegreeall)\n",
    "mindegreealonestd = np.std(mindegreealone)\n",
    "mindegreemapstd = np.std(mindegreemap)\n",
    "mindegreempestd = np.std(mindegreempe)\n",
    "minfillalonestd = np.std(minfillalone)\n",
    "minfillmapstd = np.std(minfillmap)\n",
    "minfillmpestd = np.std(minfillmpe)\n",
    "\n",
    "Mpestd = np.std(Mpe)\n",
    "Mapstd = np.std(Map)"
   ]
  },
  {
   "cell_type": "code",
   "execution_count": 12,
   "metadata": {},
   "outputs": [
    {
     "data": {
      "text/plain": "'\\\\begin{tabular}{llrr}\\n\\\\toprule\\n{} &       case &      mean &     error \\\\\\\\\\n\\\\midrule\\n0 &    Minfill &  0.132533 &  0.055684 \\\\\\\\\\n1 &  mindegree &  0.141527 &  0.045159 \\\\\\\\\\n\\\\bottomrule\\n\\\\end{tabular}\\n'"
     },
     "execution_count": 12,
     "metadata": {},
     "output_type": "execute_result"
    }
   ],
   "source": [
    "case = ['Min-fill all', 'Min-degree all']\n",
    "x_pos = np.arange(len(case))\n",
    "mean = [minfillallmean, mindegreeallmean]\n",
    "error = [minfillallstd, mindegreeallstd]\n",
    "\n",
    "dfall = pd.DataFrame({\n",
    "    'case' : ['Minfill', 'mindegree'],\n",
    "    'mean' : [minfillallmean, mindegreeallmean],\n",
    "    'error' : [minfillallstd, mindegreeallstd]})\n",
    "\n",
    "dfall.to_latex()\n"
   ]
  },
  {
   "cell_type": "code",
   "execution_count": 13,
   "metadata": {},
   "outputs": [
    {
     "data": {
      "image/png": "[encoded data removed]",
      "text/plain": "<Figure size 640x480 with 1 Axes>"
     },
     "metadata": {},
     "output_type": "display_data"
    }
   ],
   "source": [
    "fig, ax = plt.subplots()\n",
    "ax.bar(x_pos, mean, yerr=error, align='center', alpha=0.5, ecolor='black', capsize=10)\n",
    "ax.set_ylabel('')\n",
    "ax.set_xticks(x_pos)\n",
    "ax.set_xticklabels(case)\n",
    "ax.set_title('')\n",
    "ax.yaxis.grid(True)\n",
    "\n",
    "# Save the figure and show\n",
    "plt.tight_layout()\n",
    "plt.savefig('bar_plot_with_error_bars.png')\n",
    "plt.show()"
   ]
  }
 ],
 "metadata": {
  "kernelspec": {
   "display_name": "Python 3.9.7 64-bit ('venv')",
   "metadata": {
    "interpreter": {
     "hash": "b389b6b1192641d1c891d3df1edec3b6da2f63d029b09584a6f262e06c90405d"
    }
   },
   "name": "python3"
  },
  "language_info": {
   "codemirror_mode": {
    "name": "ipython",
    "version": 3
   },
   "file_extension": ".py",
   "mimetype": "text/x-python",
   "name": "python",
   "nbconvert_exporter": "python",
   "pygments_lexer": "ipython3",
   "version": "3.9.7"
  },
  "orig_nbformat": 2
 },
 "nbformat": 4,
 "nbformat_minor": 2
}